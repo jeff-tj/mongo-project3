{
 "cells": [
  {
   "cell_type": "code",
   "execution_count": 1,
   "metadata": {
    "collapsed": true
   },
   "outputs": [],
   "source": [
    "#_author_jeffrey_t\n",
    "#clean the OSM data for Sydney Metro Area:\n",
    "#https://mapzen.com/data/metro-extracts/your-extracts/c98c29b17741\n",
    "\n",
    "#import required libraries\n",
    "import xml.etree.cElementTree as ET\n",
    "import os\n",
    "import re\n",
    "\n",
    "#some global refs\n",
    "osm_test_file = 'sydney_australia.osm'"
   ]
  },
  {
   "cell_type": "code",
   "execution_count": 2,
   "metadata": {
    "collapsed": false
   },
   "outputs": [
    {
     "name": "stdout",
     "output_type": "stream",
     "text": [
      "65.9 MB\n",
      "{'node': 282039, 'nd': 359303, 'bounds': 1, 'member': 25166, 'tag': 241467, 'osm': 1, 'way': 49541, 'relation': 2094}\n"
     ]
    }
   ],
   "source": [
    "#print some basic stats about our file\n",
    "def convert_bytes(num):\n",
    "    \"\"\"\n",
    "    this function will convert bytes to MB.... GB... etc\n",
    "    from: http://stackoverflow.com/questions/2104080/how-to-check-file-size-in-python\n",
    "    \"\"\"\n",
    "    for x in ['bytes', 'KB', 'MB', 'GB', 'TB']:\n",
    "        if num < 1024.0:\n",
    "            return \"%3.1f %s\" % (num, x)\n",
    "        num /= 1024.0\n",
    "\n",
    "file_info = os.stat(osm_test_file)\n",
    "print convert_bytes(file_info.st_size)\n",
    "\n",
    "def count_tags(filename):\n",
    "    # YOUR CODE HERE\n",
    "    p_evt = ('start',)\n",
    "    tags = {}\n",
    "    for _, elem in ET.iterparse(filename, events=p_evt):\n",
    "        my_tag = elem.tag\n",
    "        if my_tag in tags:\n",
    "            tags[my_tag] += 1\n",
    "        else:\n",
    "            tags[my_tag] = 1\n",
    "    return tags\n",
    "\n",
    "print count_tags(osm_test_file)"
   ]
  },
  {
   "cell_type": "code",
   "execution_count": 3,
   "metadata": {
    "collapsed": false
   },
   "outputs": [
    {
     "name": "stdout",
     "output_type": "stream",
     "text": [
      "set(['Fitzroy', 'Rd', 'Way', 'Highway', 'Road', 'Jones', 'Lane', 'Drive', 'St', 'Place', 'Circuit', 'Gardens', 'South', 'Square', 'Parade', 'Point', 'Esplanade', 'Boulevarde', 'Street', 'Crescent', 'Broadway', 'Avenue'])\n"
     ]
    }
   ],
   "source": [
    "#module to audit street names\n",
    "st_type_re = re.compile(r'\\b\\S+\\.?$', re.IGNORECASE)\n",
    "st_types = set() #defaultdict(set) ???\n",
    "\n",
    "def is_st_name(elem):\n",
    "    return (elem.attrib['k'].rstrip() == 'addr:street')\n",
    "\n",
    "def audit_st_type(street_types, street_name):\n",
    "    m = st_type_re.search(street_name)\n",
    "    if m:\n",
    "        this_st_type = m.group()\n",
    "        st_types.add(this_st_type)\n",
    "\n",
    "def list_st_types(filename):\n",
    "    p_evt = ('start',)\n",
    "    n = 0\n",
    "    for _, elem in ET.iterparse(filename, events=p_evt):\n",
    "        if elem.tag == 'way':\n",
    "            for tag in elem.iter('tag'):\n",
    "                if is_st_name(tag):\n",
    "                    audit_st_type(st_types, tag.attrib['v'])\n",
    "\n",
    "list_st_types(osm_test_file)\n",
    "print st_types\n",
    "\n",
    "#We can see that there are a few inconsistencies in naming which we should clean"
   ]
  },
  {
   "cell_type": "code",
   "execution_count": 4,
   "metadata": {
    "collapsed": false
   },
   "outputs": [
    {
     "name": "stdout",
     "output_type": "stream",
     "text": [
      "set(['source:postal_code', 'postal_code', 'is_in:country_code', 'is_in:state_code', 'source:addr:postcode'])\n",
      "set(['NSW 2015', '200', 'NSW 2000', 'NSW 2011', 'NSW 2010', '210', 'NSW 2037', 'NSW 2026', 'NSW 2034', 'NSW 2021', 'NSW 2022', 'NSW 1460'])\n"
     ]
    }
   ],
   "source": [
    "# audit postcodes - a field not covered in the case study\n",
    "postcode_re = re.compile(r'^\\d{4}$')\n",
    "postcode_flds = set()\n",
    "postcode_bad = set()\n",
    "\n",
    "# according to the osm documentation, there are a few postcode fields:\n",
    "# addr:postcode, boundary=postal_code\n",
    "\n",
    "def is_postcode(elem):\n",
    "    return (elem.attrib['k'].rstrip() == 'addr:postcode')\n",
    "\n",
    "def audit_postcode_fld(elem):\n",
    "    if elem.attrib['k'].find('code') != -1:\n",
    "        postcode_flds.add(elem.attrib['k'])\n",
    "\n",
    "def audit_postcodes(filename):\n",
    "    p_evt = ('start',)\n",
    "    n = 0\n",
    "    for _, elem in ET.iterparse(filename, events=p_evt):\n",
    "        for tag in elem.iter('tag'):\n",
    "            if is_postcode(tag):\n",
    "                pc = postcode_re.search(tag.attrib['v'])\n",
    "                if not pc:\n",
    "                    postcode_bad.add(tag.attrib['v'])\n",
    "            else:\n",
    "                audit_postcode_fld(tag)\n",
    "\n",
    "audit_postcodes(osm_test_file)\n",
    "print postcode_flds\n",
    "print postcode_bad"
   ]
  },
  {
   "cell_type": "markdown",
   "metadata": {},
   "source": [
    "Postcodes in NSW should all 4 numbers - here we can see that there are inconsistencies in our data with some postcodes having been prefixed with NSW, these will need to be cleaned. We also see that there maybe fields where postcodes may also be stored under the tags with 'k' = 'postal_code'. We now compare any elements where both are present and see if there are any differences."
   ]
  },
  {
   "cell_type": "code",
   "execution_count": 5,
   "metadata": {
    "collapsed": false
   },
   "outputs": [],
   "source": [
    "def compare_postcodes(filename):\n",
    "    p_evt = ('start',)\n",
    "    n = 0\n",
    "    test_flds = set(['addr:postcode', 'postal_code'])\n",
    "    for _, elem in ET.iterparse(filename, events=p_evt):\n",
    "        #setup test variables for each tag\n",
    "        addr_postcode = False\n",
    "        postal_code = False\n",
    "        postcodes = {}\n",
    "        for tag in elem.iter('tag'):\n",
    "            tag_k = tag.attrib['k'].rstrip()\n",
    "            if tag_k == 'addr:postcode':\n",
    "                addr_postcode = True\n",
    "                postcodes['addr:postcode'] = tag.attrib['v']\n",
    "            elif tag_k == 'postal_code':\n",
    "                postal_code = True\n",
    "                postcodes['postalcode'] = tag.attrib['v']\n",
    "        if (addr_postcode and postal_code):\n",
    "            print postcodes\n",
    "\n",
    "compare_postcodes(osm_test_file)"
   ]
  },
  {
   "cell_type": "markdown",
   "metadata": {},
   "source": [
    "We can see here that there are no elements which contain both the 'addr:postcode' and 'postal_code' fields."
   ]
  },
  {
   "cell_type": "code",
   "execution_count": 6,
   "metadata": {
    "collapsed": false
   },
   "outputs": [
    {
     "name": "stdout",
     "output_type": "stream",
     "text": [
      "{'problemchars': 0, 'lower': 200191, 'other': 640, 'lower_colon': 38671, 'lower_two_colon': 1965}\n",
      "set(['seamark:beacon_lateral:system', 'service:bicycle:velocio', 'lane:psv:conditional', 'access:backward:conditional', 'seamark:fog_signal:group', 'turn:lanes:forward', 'bicycle:lanes:backward', 'service:bicycle:rental', 'cycleway:right:lane', 'lanes:psv:bicycle', 'service:bicycle:orbea', 'service:bicycle:pinarello', 'service:bicycle:cleaning', 'scuba_diving:type:biology', 'cycleway:forward:lane', 'seamark:beacon_cardinal:colour_pattern', 'cycleway:left:lane', 'lane:psv:bicycle', 'bus:lanes:backward', 'seamark:light:sequence', 'sidewalk:left:surface', 'seamark:light:reference', 'seamark:beacon_cardinal:category', 'scuba_diving:type:training', 'width:lanes:forward', 'seamark:light:character', 'scuba_diving:type:sand', 'seamark:harbour:category', 'source:name:date', 'seamark:light:period', 'cycleway:lane:width', 'service:bicycle:second_hand', 'motorcycle:lanes:backward', 'building:source:levels', 'parking:condition:left', 'source:oneway:bicycle', 'seamark:fog_signal:period', 'seamark:light:group', 'seamark:light:height', 'access:lanes:conditional', 'service:bicycle:repair', 'seamark:beacon_lateral:category', 'lanes:motorcycle:backward', 'source:addr:housename', 'parking:capacity:carshare', 'turn:lanes:backward', 'scuba_diving:type:intro', 'bicycle:lanes:forward', 'parking:lane:capacity', 'source:sport:date', 'service:bicycle:retail', 'seamark:light:category', 'seamark:beacon_lateral:colour', 'parking:lane:left', 'parking:lane:both', 'lanes:bicycle:backward', 'scuba_diving:entry:ladder', 'seamark:light:colour', 'lanes:bus:conditional', 'service:bicycle:kask', 'scuba_diving:entry:shore', 'motorcycle:lanes:forward', 'seamark:topmark:colour', 'destination:ref:lanes', 'payment:source:telephone_cards', 'traffic_calming:island:width', 'service:bicycle:dedacciai', 'source:addr:postcode', 'source:parking:lane', 'sidewalk:right:surface', 'service:bicycle:pump', 'access:forward:conditional', 'lanes:psv:motorcycle', 'parking:condition:right', 'addr:source:housenumber', 'lane:psv:motorcycle', 'bus:lanes:forward', 'source:turn:lanes', 'service:bicycle:wilier', 'scuba_diving:entry:steps', 'seamark:topmark:shape', 'seamark:fog_signal:category', 'seamark:light:range', 'scuba_diving:dangers:ship', 'psv:lanes:forward', 'books:language:ja', 'mtb:scale:imba', 'lanes:psv:backward', 'psv:lanes:conditional', 'cycleway:left:width', 'shoulder:access:bicycle', 'note:building:levels', 'source:addr:housenumber', 'width:lanes:backward', 'fee:except:first', 'seamark:beacon_lateral:shape', 'seamark:small_craft_facility:category', 'scuba_diving:type:night', 'cycleway:left:oneway', 'source:maxspeed:practical', 'seamark:beacon_cardinal:colour', 'cycleway:backward:lane', 'psv:lanes:backward', 'scuba_diving:type:photography', 'parking:lane:right', 'parking:capacity:disabled', 'cycleway:backward:width', 'seamark:radar_station:category', 'building:levels:underground', 'cycleway:forward:width'])\n",
      "set(['addr:housenumber_1', 'parking:condition:right:maxstay', 'seamark:light:5:sector_start', 'seamark:light:3:character', 'mapillary_1', 'seamark:light:2:character', 'note2', 'right1:maxheight', 'parking:left:parallel:off-street:capacity', 'mapillary_2', 'operator3', 'seamark:light:3:height', 'turn:psv:lanes:forward', 'parking:left:lane:parallel', 'seamark:light:1:height', 'seamark:light:3:sector_end', 'parking:lane:both:maxstay', 'seamark:light:5:range', 'seamark:light:1:colour', 'building:level:1:name', 'seamark:light:1:sequence', 'parking:left:lane:width', 'currency:XBT', 'sport_1', 'parking:lane:left:width', 'parking:lane:both:parallel:width', 'name_1', 'bus:housenumber_1', 'seamark:light:1:group', 'State', 'BP:location_id', 'seamark:light:1:sector_start', '3dr:type', 'seamark:light:2:height', 'cycleway:backward:lane:width', 'Hours', 'ref:capad2014_osm', 'parking:lane:both:width', 'seamark:light:2:colour', 'cycleway:forward:lane:width', 'Payments Accepted', 'seamark:light:1:period', 'parking:lane:left:parallel', 'parking:condition:right:time_interval', 'fuel:e10', 'seamark:light:3:range', 'parking:lane:both:parallel', 'seamark:light:2:sector_start', 'parking:lane:right:disabled:capacity', 'seamark:light:1:character', 'parking:lane:right:perpendicular:off-street', 'building:level:0:name', 'old Fox Name', 'parking:lane:both:perpendicular', 'operator2', 'source_2', 'parking:lane:right:parallel', 'seamark:light:5:character', 'acma.gov.au:site_id', 'seamark:light:4:character', 'seamark:light:4:sector_end', 'addr:city_1', 'parking:lane:both:left:width', 'seamark:light:1:range', 'seamark:light:4:range', 'seamark:light:4:sector_start', 'seamark:light:2:range', 'left1:maxheight', 'seamark:light:5:height', 'Hours of Operation', 'parking:lane:right:width', 'seamark:light:1:sector_end', 'seamark:light:4:colour', 'fuel:GTL_diesel', 'building:level:0', 'building:level:1', 'parking:condition:left:maxstay:default', 'sport2', 'BP:address', 'Keywords', 'parking:lane:right:perpendicular', 'seamark:light:3:colour', 'ref:AEFE', 'seamark:light:3:sector_start', 'addr:street_1', 'parking:left:parallel:on-street:capacity', 'seamark:light:5:colour', 'parking:right:diagonal:off-street:bays:capacity', 'seamark:light:2:sector_end', 'seamark:light:5:sector_end', 'fuel:octane_98', 'mapillary_3', 'parking:lane:left:capacity', 'fuel:octane_91', 'fuel:octane_95', 'parking:lane:right:maxstay', 'FIXME', 'parking:lane:both:perpendicular:off-street', 'currency:AUD', 'parking:lane:right:capacity', 'ABN', 'source:parking:lane:both', 'service:bicycle:NEW_BIKES', 'parking:condition:left:maxstay', 'parking:lane:left:parallel:width', 'Old Fox Name', 'parking:condition:left:time_interval', 'currency:BTC', 'is_in:iso_3166_2', 'seamark:light:4:height'])\n"
     ]
    }
   ],
   "source": [
    "# testing tag types\n",
    "lower = re.compile(r'^([a-z]|_)*$')\n",
    "lower_colon = re.compile(r'^([a-z]|_)*:([a-z]|_)*$')\n",
    "lower_two_colon = re.compile(r'^([a-z]|_)*:([a-z]|_)*:([a-z]|_)*$')\n",
    "problemchars = re.compile(r'[=\\+/&<>;\\'\"\\?%#$@\\,\\. \\t\\r\\n]')\n",
    "\n",
    "def test_tag_type(elem):\n",
    "    tag_type = elem.attrib['k']\n",
    "    if lower.match(tag_type) != None:\n",
    "        keys['lower'] += 1\n",
    "    elif lower_colon.match(tag_type) != None:\n",
    "        keys['lower_colon'] += 1\n",
    "    elif lower_two_colon.match(tag_type) != None:\n",
    "        keys['lower_two_colon'] += 1\n",
    "        two_colon_set.add(tag_type)\n",
    "    elif problemchars.match(tag_type) != None:\n",
    "        keys['problemchars'] += 1\n",
    "    else:\n",
    "        keys['other'] += 1\n",
    "        others_set.add(tag_type)\n",
    "\n",
    "keys = {\n",
    "        'lower': 0,\n",
    "        'lower_colon': 0,\n",
    "        'lower_two_colon': 0,\n",
    "        'problemchars': 0,\n",
    "        'other': 0\n",
    "        }\n",
    "two_colon_set = set()\n",
    "others_set = set()\n",
    "\n",
    "def test_tag_types(filename):\n",
    "    p_evt = ('start',)\n",
    "    n = 0\n",
    "    test_flds = set(['addr:postcode', 'postal_code'])\n",
    "    for _, elem in ET.iterparse(filename, events=p_evt):\n",
    "        if 'k'  in elem.attrib:\n",
    "            test_tag_type(elem)\n",
    "\n",
    "test_tag_types(osm_test_file)\n",
    "print keys\n",
    "print two_colon_set\n",
    "print others_set"
   ]
  },
  {
   "cell_type": "markdown",
   "metadata": {},
   "source": [
    "The tag types seem to be quite well maintained - we do not see any problem chars and there do not appear to be any two colon fields relevant to what we are attempting to extract. We note there may be on problematic other type - namely: 'addr:city_1'. "
   ]
  },
  {
   "cell_type": "markdown",
   "metadata": {},
   "source": [
    "## Functions to fix the identified gaps in our data\n",
    "Our goals are to:\n",
    "* Ensure that all the street names are uniform"
   ]
  },
  {
   "cell_type": "code",
   "execution_count": null,
   "metadata": {
    "collapsed": true
   },
   "outputs": [],
   "source": [
    "# set(['Court', 'Place', 'Way', 'Revesby', 'Walk', 'Highway', 'Ogilve', \n",
    "#'Promenade', 'Corination', 'Lane', 'Drive', 'St', 'Hilma', 'Circuit', 'Road', \n",
    "#'Square', 'Parade', 'Point', 'st', 'Street', 'Crescent', 'Ave', 'Avenue'])\n",
    "\n",
    "# From the sample above create a set of good street styles to check against.\n",
    "good_st_types = set([\"Court\",\n",
    "                    \"Place\",\n",
    "                    \"Way\",\n",
    "                    \"Walk\",\n",
    "                    \"Highway\",\n",
    "                    \"Promenade\",\n",
    "                    \"Corination\",\n",
    "                    \"Lane\",\n",
    "                    \"Drive\",\n",
    "                    \"Street\",\n",
    "                    \"Circuit\",\n",
    "                    \"Road\",\n",
    "                    \"Square\",\n",
    "                    \"Parade\",\n",
    "                    \"Point\",\n",
    "                    \"Crescent\",\n",
    "                    \"Avenue\"\n",
    "                    ])\n",
    "fix_st_dict = {\"St\": \"Street\",\n",
    "              \"st\": \"Street\",\n",
    "              \"Ave\": \"Avenue\",\n",
    "              \"ave\": \"Avenue\"\n",
    "              }"
   ]
  }
 ],
 "metadata": {
  "anaconda-cloud": {},
  "kernelspec": {
   "display_name": "Python 2",
   "language": "python",
   "name": "python2"
  },
  "language_info": {
   "codemirror_mode": {
    "name": "ipython",
    "version": 2
   },
   "file_extension": ".py",
   "mimetype": "text/x-python",
   "name": "python",
   "nbconvert_exporter": "python",
   "pygments_lexer": "ipython2",
   "version": "2.7.13"
  }
 },
 "nbformat": 4,
 "nbformat_minor": 1
}
