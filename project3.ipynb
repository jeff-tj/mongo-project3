{
 "cells": [
  {
   "cell_type": "code",
   "execution_count": 1,
   "metadata": {
    "collapsed": true
   },
   "outputs": [],
   "source": [
    "#_author_jeffrey_t\n",
    "#clean the OSM data for Sydney:\n",
    "#https://mapzen.com/data/metro-extracts/metro/sydney_australia/85771099/Sydney/\n",
    "\n",
    "#import required libraries\n",
    "import xml.etree.cElementTree as ET\n",
    "import os\n",
    "import re\n",
    "\n",
    "#some global refs\n",
    "osm_test_file = 'sample.osm'"
   ]
  },
  {
   "cell_type": "code",
   "execution_count": 7,
   "metadata": {
    "collapsed": false
   },
   "outputs": [
    {
     "name": "stdout",
     "output_type": "stream",
     "text": [
      "30.2 MB\n",
      "{'node': 139433, 'nd': 168440, 'member': 5903, 'tag': 79010, 'relation': 457, 'way': 19124, 'osm': 1}\n"
     ]
    }
   ],
   "source": [
    "#print some basic stats about our file\n",
    "def convert_bytes(num):\n",
    "    \"\"\"\n",
    "    this function will convert bytes to MB.... GB... etc\n",
    "    from: http://stackoverflow.com/questions/2104080/how-to-check-file-size-in-python\n",
    "    \"\"\"\n",
    "    for x in ['bytes', 'KB', 'MB', 'GB', 'TB']:\n",
    "        if num < 1024.0:\n",
    "            return \"%3.1f %s\" % (num, x)\n",
    "        num /= 1024.0\n",
    "\n",
    "file_info = os.stat(osm_test_file)\n",
    "print convert_bytes(file_info.st_size)\n",
    "\n",
    "def count_tags(filename):\n",
    "    # YOUR CODE HERE\n",
    "    p_evt = ('start',)\n",
    "    tags = {}\n",
    "    for _, elem in ET.iterparse(filename, events=p_evt):\n",
    "        my_tag = elem.tag\n",
    "        if my_tag in tags:\n",
    "            tags[my_tag] += 1\n",
    "        else:\n",
    "            tags[my_tag] = 1\n",
    "    return tags\n",
    "\n",
    "print count_tags(osm_test_file)"
   ]
  },
  {
   "cell_type": "code",
   "execution_count": 6,
   "metadata": {
    "collapsed": false
   },
   "outputs": [
    {
     "name": "stdout",
     "output_type": "stream",
     "text": [
      "set(['Court', 'Place', 'Way', 'Revesby', 'Walk', 'Highway', 'Ogilve', 'Promenade', 'Corination', 'Lane', 'Drive', 'St', 'Hilma', 'Circuit', 'Road', 'Square', 'Parade', 'Point', 'st', 'Street', 'Crescent', 'Ave', 'Avenue'])\n"
     ]
    }
   ],
   "source": [
    "#module to audit street names\n",
    "st_type_re = re.compile(r'\\b\\S+\\.?$', re.IGNORECASE)\n",
    "st_types = set() #defaultdict(set) ???\n",
    "\n",
    "def is_st_name(elem):\n",
    "    return (elem.attrib['k'].rstrip() == 'addr:street')\n",
    "\n",
    "def audit_st_type(street_types, street_name):\n",
    "    m = st_type_re.search(street_name)\n",
    "    if m:\n",
    "        this_st_type = m.group()\n",
    "        st_types.add(this_st_type)\n",
    "\n",
    "def list_st_types(filename):\n",
    "    p_evt = ('start',)\n",
    "    n = 0\n",
    "    for _, elem in ET.iterparse(filename, events=p_evt):\n",
    "        if elem.tag == 'way':\n",
    "            for tag in elem.iter('tag'):\n",
    "                if is_st_name(tag):\n",
    "                    audit_st_type(st_types, tag.attrib['v'])\n",
    "\n",
    "list_st_types(osm_test_file)\n",
    "print st_types\n",
    "\n",
    "#We can see that there are a few inconsistencies in naming which we should clean"
   ]
  },
  {
   "cell_type": "code",
   "execution_count": 19,
   "metadata": {
    "collapsed": false
   },
   "outputs": [
    {
     "name": "stdout",
     "output_type": "stream",
     "text": [
      "set(['source:postal_code', 'postal_code', 'is_in:country_code', 'is_in:state_code'])\n",
      "set(['NSW 2015', 'NSW 2000', 'NSW 2010', 'NSW 2234', 'NSW 2022', 'NSW 1460', 'NSW 2127'])\n"
     ]
    }
   ],
   "source": [
    "# audit postcodes - a field not covered in the case study\n",
    "postcode_re = re.compile(r'^\\d{4}$')\n",
    "postcode_flds = set()\n",
    "postcode_bad = set()\n",
    "\n",
    "# according to the osm documentation, there are a few postcode fields:\n",
    "# addr:postcode, boundary=postal_code\n",
    "\n",
    "def is_postcode(elem):\n",
    "    return (elem.attrib['k'].rstrip() == 'addr:postcode')\n",
    "\n",
    "def audit_postcode_fld(elem):\n",
    "    if elem.attrib['k'].find('code') != -1:\n",
    "        postcode_flds.add(elem.attrib['k'])\n",
    "\n",
    "def audit_postcodes(filename):\n",
    "    p_evt = ('start',)\n",
    "    n = 0\n",
    "    for _, elem in ET.iterparse(filename, events=p_evt):\n",
    "        for tag in elem.iter('tag'):\n",
    "            if is_postcode(tag):\n",
    "                pc = postcode_re.search(tag.attrib['v'])\n",
    "                if not pc:\n",
    "                    postcode_bad.add(tag.attrib['v'])\n",
    "            else:\n",
    "                audit_postcode_fld(tag)\n",
    "\n",
    "audit_postcodes(osm_test_file)\n",
    "print postcode_flds\n",
    "print postcode_bad"
   ]
  },
  {
   "cell_type": "markdown",
   "metadata": {},
   "source": [
    "Postcodes in NSW should all 4 numbers - here we can see that there are inconsistencies in our data with some postcodes having been prefixed with NSW, these will need to be cleaned. We also see that there maybe fields where postcodes may also be stored under the tags with 'k' = 'postal_code'. We now compare any elements where both are present and see if there are any differences."
   ]
  },
  {
   "cell_type": "code",
   "execution_count": 25,
   "metadata": {
    "collapsed": false
   },
   "outputs": [],
   "source": [
    "def compare_postcodes(filename):\n",
    "    p_evt = ('start',)\n",
    "    n = 0\n",
    "    test_flds = set(['addr:postcode', 'postal_code'])\n",
    "    for _, elem in ET.iterparse(filename, events=p_evt):\n",
    "        #setup test variables for each tag\n",
    "        addr_postcode = False\n",
    "        postal_code = False\n",
    "        postcodes = {}\n",
    "        for tag in elem.iter('tag'):\n",
    "            tag_k = tag.attrib['k'].rstrip()\n",
    "            if tag_k == 'addr:postcode':\n",
    "                addr_postcode = True\n",
    "                postcodes['addr:postcode'] = tag.attrib['v']\n",
    "            elif tag_k == 'postal_code':\n",
    "                postal_code = True\n",
    "                postcodes['postalcode'] = tag.attrib['v']\n",
    "        if (addr_postcode and postal_code):\n",
    "            print postcodes\n",
    "\n",
    "compare_postcodes(osm_test_file)"
   ]
  },
  {
   "cell_type": "markdown",
   "metadata": {},
   "source": [
    "We can see here that there are no elements which contain both the 'addr:postcode' and 'postal_code' fields."
   ]
  },
  {
   "cell_type": "code",
   "execution_count": 28,
   "metadata": {
    "collapsed": false
   },
   "outputs": [
    {
     "name": "stdout",
     "output_type": "stream",
     "text": [
      "{'problemchars': 0, 'lower': 69006, 'other': 205, 'lower_colon': 9192, 'lower_two_colon': 607}\n",
      "set(['seamark:beacon_lateral:system', 'seamark:beacon_lateral:colour', 'parking:lane:left', 'building:roof:shape', 'lanes:bus:conditional', 'source:name:date', 'alt_is:in:suburb', 'mtb:scale:imba', 'seamark:light:period', 'cycleway:backward:lane', 'cycleway:lane:width', 'parking:lane:both', 'motorcycle:lanes:backward', 'turn:lanes:forward', 'fixme:sign:no', 'bicycle:lanes:backward', 'parking:condition:left', 'mtb:scale:uphill', 'cycleway:left:width', 'shoulder:left:width', 'parking:condition:both', 'width:lanes:backward', 'generator:output:electricity', 'seamark:topmark:colour', 'seamark:light:height', 'access:lanes:conditional', 'seamark:light:range', 'service:bicycle:repair', 'source:parking:lane', 'seamark:beacon_lateral:category', 'cycleway:forward:lane', 'source:maxspeed:practical', 'turn:lanes:backward', 'parking:condition:right', 'vehicle:lanes:forward', 'addr:source:housenumber', 'vehicle:lanes:backward', 'shoulder:right:width', 'psv:lanes:backward', 'parking:lane:right', 'source:turn:lanes', 'width:lanes:forward', 'bicycle:lanes:forward', 'cycleway:backward:width', 'seamark:topmark:shape', 'seamark:light:reference', 'seamark:light:colour', 'sidewalk:left:surface', 'seamark:light:character', 'source:sport:date', 'service:bicycle:retail'])\n",
      "set(['parking:lane:both:parallel:width', 'name:fiu-vro', 'ISO3166-1:numeric', 'parking:lane:both:perpendicular:off-street', 'old Fox Name', 'bus:housenumber_1', 'Origin_X', 'ISO3166-1', 'ISO3166-1:alpha3', 'Building_N', 'parking:condition:left:maxstay:default', 'Room_Count', 'Floor_Coun', 'name:zh-min-nan', 'parking:lane:right:parallel', 'CONF_VALUE', 'name:nds-nl', 'currency:AUD', 'name:bat-smg', '3dr:type', 'addr:city_1', 'barrier_1', 'mapillary_3', 'ISO3166-1:alpha2', 'fuel:octane_98', 'Item_class', 'parking:lane:left:capacity', 'Item_ID', 'fuel:octane_91', 'operator3', 'fuel:octane_95', 'ISO3166-2', 'name:roa-tara', 'FIXME', 'operator2', 'parking:lane:both:width', 'GM_TYPE', 'parking:lane:both:perpendicular', 'SSC_CODE', 'parking:lane:left:parallel', '4wd_only', 'parking:lane:right:capacity', 'mapillary_2', 'name:zh-classical', 'building_1', 'Origin_Z', 'Origin_Y', 'sport_1', 'cycleway:forward:lane:width', 'parking:condition:left:maxstay', 'SSC_NAME', 'LAYER', 'mapillary_1', 'building:level:0', 'fuel:e10', 'is_in:iso_3166_2', 'name:be-tarask', 'Brush', 'parking:condition:both:time_interval', 'parking:lane:both:parallel', 'parking:condition:left:time_interval', 'name:zh-yue', 'parking:lane:left:width', 'Id', 'parking:condition:both:maxstay'])\n"
     ]
    }
   ],
   "source": [
    "# testing tag types\n",
    "lower = re.compile(r'^([a-z]|_)*$')\n",
    "lower_colon = re.compile(r'^([a-z]|_)*:([a-z]|_)*$')\n",
    "lower_two_colon = re.compile(r'^([a-z]|_)*:([a-z]|_)*:([a-z]|_)*$')\n",
    "problemchars = re.compile(r'[=\\+/&<>;\\'\"\\?%#$@\\,\\. \\t\\r\\n]')\n",
    "\n",
    "def test_tag_type(elem):\n",
    "    tag_type = elem.attrib['k']\n",
    "    if lower.match(tag_type) != None:\n",
    "        keys['lower'] += 1\n",
    "    elif lower_colon.match(tag_type) != None:\n",
    "        keys['lower_colon'] += 1\n",
    "    elif lower_two_colon.match(tag_type) != None:\n",
    "        keys['lower_two_colon'] += 1\n",
    "        two_colon_set.add(tag_type)\n",
    "    elif problemchars.match(tag_type) != None:\n",
    "        keys['problemchars'] += 1\n",
    "    else:\n",
    "        keys['other'] += 1\n",
    "        others_set.add(tag_type)\n",
    "\n",
    "keys = {\n",
    "        'lower': 0,\n",
    "        'lower_colon': 0,\n",
    "        'lower_two_colon': 0,\n",
    "        'problemchars': 0,\n",
    "        'other': 0\n",
    "        }\n",
    "two_colon_set = set()\n",
    "others_set = set()\n",
    "\n",
    "def test_tag_types(filename):\n",
    "    p_evt = ('start',)\n",
    "    n = 0\n",
    "    test_flds = set(['addr:postcode', 'postal_code'])\n",
    "    for _, elem in ET.iterparse(filename, events=p_evt):\n",
    "        if 'k'  in elem.attrib:\n",
    "            test_tag_type(elem)\n",
    "\n",
    "test_tag_types(osm_test_file)\n",
    "print keys\n",
    "print two_colon_set\n",
    "print others_set"
   ]
  },
  {
   "cell_type": "markdown",
   "metadata": {},
   "source": [
    "The tag types seem to be quite well maintained - we do not see any problem chars and there do not appear to be any two colon fields relevant to what we are attempting to extract. We note there may be on problematic other type - namely: 'addr:city_1'. We will keep an eye on these if we find any a node where there is a missing 'addr:city' field in our data."
   ]
  },
  {
   "cell_type": "markdown",
   "metadata": {},
   "source": [
    "## Functions to fix the identified gaps in our data\n",
    "Our goals are to:\n",
    "* Ensure that all the street names are uniform"
   ]
  },
  {
   "cell_type": "code",
   "execution_count": null,
   "metadata": {
    "collapsed": true
   },
   "outputs": [],
   "source": [
    "# set(['Court', 'Place', 'Way', 'Revesby', 'Walk', 'Highway', 'Ogilve', \n",
    "#'Promenade', 'Corination', 'Lane', 'Drive', 'St', 'Hilma', 'Circuit', 'Road', \n",
    "#'Square', 'Parade', 'Point', 'st', 'Street', 'Crescent', 'Ave', 'Avenue'])\n",
    "\n",
    "# From the sample above create a set of good street styles to check against.\n",
    "good_st_types = set([\"Court\",\n",
    "                    \"Place\",\n",
    "                    \"Way\",\n",
    "                    \"Walk\",\n",
    "                    \"Highway\",\n",
    "                    \"Promenade\",\n",
    "                    \"Corination\",\n",
    "                    \"Lane\",\n",
    "                    \"Drive\",\n",
    "                    \"Street\",\n",
    "                    \"Circuit\",\n",
    "                    \"Road\",\n",
    "                    \"Square\",\n",
    "                    \"Parade\",\n",
    "                    \"Point\",\n",
    "                    \"Crescent\",\n",
    "                    \"Avenue\"\n",
    "                    ])\n",
    "fix_st_dict = {\"St\": \"Street\",\n",
    "              \"st\": \"Street\",\n",
    "              \"Ave\": \"Avenue\",\n",
    "              \"ave\": \"Avenue\"\n",
    "              }"
   ]
  }
 ],
 "metadata": {
  "anaconda-cloud": {},
  "kernelspec": {
   "display_name": "Python [default]",
   "language": "python",
   "name": "python2"
  },
  "language_info": {
   "codemirror_mode": {
    "name": "ipython",
    "version": 2
   },
   "file_extension": ".py",
   "mimetype": "text/x-python",
   "name": "python",
   "nbconvert_exporter": "python",
   "pygments_lexer": "ipython2",
   "version": "2.7.12"
  }
 },
 "nbformat": 4,
 "nbformat_minor": 1
}
